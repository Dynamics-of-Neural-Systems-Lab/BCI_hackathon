{
 "cells": [
  {
   "cell_type": "code",
   "execution_count": 2,
   "metadata": {},
   "outputs": [],
   "source": [
    "import os\n",
    "import sys\n",
    "sys.path.insert(1, os.path.realpath(os.path.pardir))\n",
    "\n",
    "\n",
    "from utils.augmentations import get_default_transform\n",
    "from utils import creating_dataset\n"
   ]
  },
  {
   "cell_type": "markdown",
   "metadata": {},
   "source": [
    "# Dataset loading & inspection\n",
    "This notebook shows how to load the datasets used in this challenge and provides some basic statistics about them.\n",
    "\n",
    "Note that the data includes EMG signal from 8 electrodes in the EMG armband, the predicted variables are the angle of 20 joints in the hand. Inputs are sampled at 200Hz, but the  outputs are intended to be at a subsampled rate of 25Hz (more on that in other notebooks).\n",
    "\n",
    "Data was acquired in \"healthy\" and \"amputant\" subjects (i.e. with limb loss) using the EMG armband in either the left or right arm. \n",
    "Your model's predictions will be evaluated on data from one of the two amputant subjects (fedya), but you can use any and all provided data for training your model. For simplicity, the data has been divided in `training` and `test` subsets (not all subjects have `test` data) to evaluate your model's performance during training. The final submission data is held separate and only used when preparing the submission.csv file (see 04_submit_predictions.ipynb).\n",
    "\n",
    "### Load data\n",
    "Start by defining a variable to keep track of where the data is saved on your computer and a set of parameters for selecting which data to load. "
   ]
  },
  {
   "cell_type": "code",
   "execution_count": 3,
   "metadata": {},
   "outputs": [],
   "source": [
    "DATA_PATH = r\"/msc/home/vsharm64/projects/BCI_Kaggle/dataset_v2_blocks/dataset_v2_blocks\""
   ]
  },
  {
   "cell_type": "markdown",
   "metadata": {},
   "source": [
    "You can decide which data to load (e.g. from both `health` and `amputant` subjects). \n",
    "The `test_dataset_list` specifies which subset of the data should be used as test set, and it shouldn't change. You can, however, play around with training your model on different subsets of the available training data. \n",
    "\n",
    "You can also define a set of `transform` functions to apply to the data before feeding it to the model, or load the default ones."
   ]
  },
  {
   "cell_type": "code",
   "execution_count": 4,
   "metadata": {
    "scrolled": true
   },
   "outputs": [
    {
     "name": "stdout",
     "output_type": "stream",
     "text": [
      "Getting val datasets\n",
      "Number of moves: 72 | Dataset: fedya_tropin_standart_elbow_left\n",
      "Reorder this dataset fedya_tropin_standart_elbow_left True\n",
      "Getting train datasets\n",
      "Number of moves: 72 | Dataset: fedya_tropin_standart_elbow_left\n",
      "Reorder this dataset fedya_tropin_standart_elbow_left True\n",
      "Number of moves: 70 | Dataset: valery_first_standart_elbow_left\n",
      "Reorder this dataset valery_first_standart_elbow_left True\n",
      "Number of moves: 135 | Dataset: alex_kovalev_standart_elbow_left\n",
      "Reorder this dataset alex_kovalev_standart_elbow_left True\n",
      "Number of moves: 72 | Dataset: anna_makarova_standart_elbow_left\n",
      "Reorder this dataset anna_makarova_standart_elbow_left True\n",
      "Number of moves: 62 | Dataset: artem_snailbox_standart_elbow_left\n",
      "Reorder this dataset artem_snailbox_standart_elbow_left True\n",
      "Number of moves: 144 | Dataset: matthew_antonov_standart_elbow_left\n",
      "Reorder this dataset matthew_antonov_standart_elbow_left True\n",
      "Number of moves: 144 | Dataset: misha_korobok_standart_elbow_left\n",
      "Reorder this dataset misha_korobok_standart_elbow_left True\n",
      "Number of moves: 71 | Dataset: nikita_snailbox_standart_elbow_left\n",
      "Reorder this dataset nikita_snailbox_standart_elbow_left True\n",
      "Number of moves: 144 | Dataset: petya_chizhov_standart_elbow_left\n",
      "Reorder this dataset petya_chizhov_standart_elbow_left True\n",
      "Number of moves: 12 | Dataset: polina_maksimova_standart_elbow_left\n",
      "Reorder this dataset polina_maksimova_standart_elbow_left True\n",
      "Number of moves: 144 | Dataset: sema_duplin_standart_elbow_left\n",
      "Reorder this dataset sema_duplin_standart_elbow_left True\n",
      "Number of moves: 136 | Dataset: alex_kovalev_standart_elbow_right\n",
      "Number of moves: 69 | Dataset: andrew_snailbox_standart_elbow_right\n",
      "Number of moves: 132 | Dataset: anna_makarova_standart_elbow_right\n",
      "Number of moves: 67 | Dataset: artem_snailbox_standart_elbow_right\n",
      "Number of moves: 68 | Dataset: matthew_antonov_standart_elbow_right\n",
      "Number of moves: 72 | Dataset: matvey_gorbenko_standart_elbow_right\n",
      "Number of moves: 144 | Dataset: misha_korobok_standart_elbow_right\n",
      "Number of moves: 55 | Dataset: nikita_snailbox_standart_elbow_right\n",
      "Number of moves: 142 | Dataset: petya_chizhov_standart_elbow_right\n",
      "Number of moves: 54 | Dataset: polina_maksimova_standart_elbow_right\n",
      "Number of moves: 139 | Dataset: sema_duplin_standart_elbow_right\n",
      "Number of trainining sessions: 22\n",
      "Number of validation sessions: 1\n",
      "Size of the input (8, 256) || Size of the output (20, 32)\n"
     ]
    }
   ],
   "source": [
    "data_paths = dict(\n",
    "    datasets=[DATA_PATH],\n",
    "    hand_type = ['left', 'right'], # [left, 'right']\n",
    "    human_type = ['health', 'amputant'], # [amputant, 'health']\n",
    "    test_dataset_list = ['fedya_tropin_standart_elbow_left']  # don't change this !\n",
    ")\n",
    "\n",
    "# define a config object to keep track of data variables\n",
    "data_config = creating_dataset.DataConfig(**data_paths)\n",
    "\n",
    "# get transforms\n",
    "p_transform = 0.1  # probability of applying the transform\n",
    "transform = get_default_transform(p_transform)\n",
    "\n",
    "# load the data\n",
    "train_dataset, test_dataset = creating_dataset.get_datasets(data_config, transform=transform)\n"
   ]
  },
  {
   "cell_type": "markdown",
   "metadata": {},
   "source": [
    "### Inspect the data\n",
    "\n",
    "`train_dataset` and `test_dataset` are instances of the `torch.utils.data.ConcatDataset` class. \n",
    "\n",
    "\n",
    "The following code shows the number of batches in each set as well as the size of input and outputs. \n",
    "Note that inputs are of shape `n_channels x batch_size` while the outputs are of shape `n_angles x downsampled_batchs_size` where `downsampled_batch_size = batch_size / 200 * 25` to account for downsampling of predictions. "
   ]
  },
  {
   "cell_type": "code",
   "execution_count": 5,
   "metadata": {},
   "outputs": [
    {
     "name": "stdout",
     "output_type": "stream",
     "text": [
      "Train dataset size: 99990, Test dataset size: 792\n",
      "X shape: (8, 256), Y shape: (20, 32)\n"
     ]
    }
   ],
   "source": [
    "print(f\"Train dataset size: {len(train_dataset)}, Test dataset size: {len(test_dataset)}\")\n",
    "\n",
    "X, Y = train_dataset[0]\n",
    "print(f\"X shape: {X.shape}, Y shape: {Y.shape}\")"
   ]
  },
  {
   "cell_type": "markdown",
   "metadata": {},
   "source": [
    "You can also generate a video of the hand movements."
   ]
  },
  {
   "cell_type": "code",
   "execution_count": 6,
   "metadata": {},
   "outputs": [],
   "source": [
    "from utils.hand_visualize import Hand, save_animation\n",
    "from utils.quats_and_angles import get_quats\n",
    "import numpy as np\n",
    "\n",
    "\n",
    "batches = [train_dataset[i] for i in range(10)]\n",
    "Y = np.concatenate([b[1] for b in batches], axis=1)\n",
    "quats = get_quats(Y)\n",
    "\n",
    "hand_gt = Hand(quats)\n",
    "ani = hand_gt.visualize_all_frames()\n",
    "save_animation(ani, 'test_vis.gif', fps=25,)   # this will save a .gif file"
   ]
  },
  {
   "cell_type": "code",
   "execution_count": 6,
   "metadata": {},
   "outputs": [],
   "source": [
    "from utils.hand_visualize import Hand, save_animation\n",
    "from utils.quats_and_angles import get_quats\n",
    "import numpy as np\n",
    "\n",
    "\n",
    "batches = [train_dataset[i] for i in range(10)]\n",
    "Y = np.concatenate([b[1] for b in batches], axis=1)\n",
    "quats = get_quats(Y)\n"
   ]
  },
  {
   "cell_type": "code",
   "execution_count": 7,
   "metadata": {},
   "outputs": [
    {
     "data": {
      "text/plain": [
       "(20, 320)"
      ]
     },
     "execution_count": 7,
     "metadata": {},
     "output_type": "execute_result"
    }
   ],
   "source": [
    "Y.shape"
   ]
  },
  {
   "cell_type": "code",
   "execution_count": 19,
   "metadata": {},
   "outputs": [
    {
     "data": {
      "text/plain": [
       "(20, 32)"
      ]
     },
     "execution_count": 19,
     "metadata": {},
     "output_type": "execute_result"
    }
   ],
   "source": [
    "train_dataset[0][1].shape"
   ]
  },
  {
   "cell_type": "code",
   "execution_count": 14,
   "metadata": {
    "scrolled": true
   },
   "outputs": [
    {
     "data": {
      "text/plain": [
       "(20, 32)"
      ]
     },
     "execution_count": 14,
     "metadata": {},
     "output_type": "execute_result"
    }
   ],
   "source": [
    "batches[0][1].shape"
   ]
  },
  {
   "cell_type": "code",
   "execution_count": 16,
   "metadata": {},
   "outputs": [
    {
     "data": {
      "text/plain": [
       "2"
      ]
     },
     "execution_count": 16,
     "metadata": {},
     "output_type": "execute_result"
    }
   ],
   "source": [
    "len(batches[0])"
   ]
  },
  {
   "cell_type": "code",
   "execution_count": 17,
   "metadata": {},
   "outputs": [
    {
     "data": {
      "text/plain": [
       "(20, 16, 4)"
      ]
     },
     "execution_count": 17,
     "metadata": {},
     "output_type": "execute_result"
    }
   ],
   "source": [
    "quats.shape"
   ]
  },
  {
   "cell_type": "code",
   "execution_count": 31,
   "metadata": {},
   "outputs": [
    {
     "data": {
      "text/plain": [
       "array([[ 0.        ,  0.        ,  0.        ,  1.        ],\n",
       "       [-0.04312416,  0.03306272,  0.22938382, -0.971818  ],\n",
       "       [-0.04322608,  0.03294022,  0.23216326, -0.97115739],\n",
       "       [-0.04325948,  0.03289993,  0.23307568, -0.97093869],\n",
       "       [ 0.0222884 , -0.05011607,  0.31909113, -0.94613554],\n",
       "       [ 0.02184452, -0.05030681,  0.31084577, -0.94887668],\n",
       "       [ 0.02140371, -0.05049175,  0.30266448, -0.95151809],\n",
       "       [ 0.18211062, -0.146104  ,  0.33740099, -0.91194842],\n",
       "       [ 0.17561351, -0.15393693,  0.29721149, -0.92581243],\n",
       "       [ 0.16801359, -0.16228337,  0.25196479, -0.93912155],\n",
       "       [ 0.08328987, -0.08916145,  0.36260135, -0.92392277],\n",
       "       [ 0.08249929, -0.08989446,  0.35441937, -0.9270921 ],\n",
       "       [ 0.0812002 , -0.0910712 ,  0.34105804, -0.93209011],\n",
       "       [ 0.69173684, -0.26901042, -0.00736746,  0.67013376],\n",
       "       [ 0.61882164, -0.29865893, -0.00514572,  0.72652333],\n",
       "       [-0.66704538,  0.32558318, -0.04838486, -0.6683599 ]])"
      ]
     },
     "execution_count": 31,
     "metadata": {},
     "output_type": "execute_result"
    }
   ],
   "source": [
    "quats[0,:,:]"
   ]
  },
  {
   "cell_type": "code",
   "execution_count": 27,
   "metadata": {},
   "outputs": [
    {
     "data": {
      "text/plain": [
       "(20, 16, 4)"
      ]
     },
     "execution_count": 27,
     "metadata": {},
     "output_type": "execute_result"
    }
   ],
   "source": [
    "quats_oi = get_quats(train_dataset[0][1])#.shape\n",
    "quats_oi.shape"
   ]
  },
  {
   "cell_type": "code",
   "execution_count": 30,
   "metadata": {},
   "outputs": [
    {
     "data": {
      "text/plain": [
       "(20, 32)"
      ]
     },
     "execution_count": 30,
     "metadata": {},
     "output_type": "execute_result"
    }
   ],
   "source": [
    "train_dataset[0][1].shape"
   ]
  },
  {
   "cell_type": "code",
   "execution_count": null,
   "metadata": {},
   "outputs": [],
   "source": []
  },
  {
   "cell_type": "code",
   "execution_count": 28,
   "metadata": {},
   "outputs": [
    {
     "data": {
      "text/plain": [
       "array([[[ 0.00000000e+00,  0.00000000e+00,  0.00000000e+00,\n",
       "          1.00000000e+00],\n",
       "        [-2.63740941e-02, -5.11758018e-02,  2.94953388e-01,\n",
       "         -9.53775625e-01],\n",
       "        [-2.97472497e-02, -4.92953454e-02,  2.30498181e-01,\n",
       "         -9.71367932e-01],\n",
       "        ...,\n",
       "        [ 6.83211302e-01, -2.81374852e-01, -4.55036534e-03,\n",
       "          6.73817337e-01],\n",
       "        [-6.10578392e-01,  3.08096092e-01,  5.60282909e-03,\n",
       "         -7.29547417e-01],\n",
       "        [-6.59792184e-01,  3.32420103e-01, -4.65783970e-02,\n",
       "         -6.72310644e-01]],\n",
       "\n",
       "       [[ 0.00000000e+00,  0.00000000e+00,  0.00000000e+00,\n",
       "          1.00000000e+00],\n",
       "        [-4.24015107e-02,  2.87576981e-02,  2.37692171e-01,\n",
       "         -9.69988422e-01],\n",
       "        [-4.25741375e-02,  2.85043422e-02,  2.43477586e-01,\n",
       "         -9.68552327e-01],\n",
       "        ...,\n",
       "        [-6.40666822e-01,  3.69219244e-01,  9.15039119e-03,\n",
       "         -6.73156329e-01],\n",
       "        [-5.89825092e-01,  3.46907202e-01,  5.88261482e-02,\n",
       "         -7.26843338e-01],\n",
       "        [-6.60701767e-01,  3.31912951e-01,  4.77324215e-02,\n",
       "         -6.71586616e-01]],\n",
       "\n",
       "       [[ 0.00000000e+00,  0.00000000e+00,  0.00000000e+00,\n",
       "          1.00000000e+00],\n",
       "        [-2.43033844e-02,  2.48275673e-01,  4.27829159e-02,\n",
       "         -9.67438968e-01],\n",
       "        [-6.22052170e-02,  2.38365556e-01,  2.40737132e-01,\n",
       "         -9.38806692e-01],\n",
       "        ...,\n",
       "        [-5.62333150e-01,  5.61385393e-01,  1.46065375e-02,\n",
       "         -6.06971596e-01],\n",
       "        [ 6.00091310e-01, -4.32618806e-01, -1.69645952e-01,\n",
       "          6.51115688e-01],\n",
       "        [ 7.23532512e-01, -3.17818838e-01, -2.38481587e-01,\n",
       "          5.64462951e-01]],\n",
       "\n",
       "       ...,\n",
       "\n",
       "       [[ 0.00000000e+00,  0.00000000e+00,  0.00000000e+00,\n",
       "          1.00000000e+00],\n",
       "        [-1.18741405e-02, -9.43249423e-02,  3.22370265e-01,\n",
       "         -9.41827597e-01],\n",
       "        [-2.17642786e-02, -9.25528627e-02,  2.26738034e-01,\n",
       "         -9.69303950e-01],\n",
       "        ...,\n",
       "        [ 7.14616563e-01, -2.22669383e-01,  1.49237667e-04,\n",
       "          6.63130072e-01],\n",
       "        [ 6.34211350e-01, -2.81870444e-01,  2.81904471e-02,\n",
       "          7.19395799e-01],\n",
       "        [ 6.69936487e-01, -3.32687543e-01,  1.04836948e-01,\n",
       "          6.55372655e-01]],\n",
       "\n",
       "       [[ 0.00000000e+00,  0.00000000e+00,  0.00000000e+00,\n",
       "          1.00000000e+00],\n",
       "        [-1.69350895e-02,  2.95554252e-01,  1.28801360e-02,\n",
       "         -9.55088995e-01],\n",
       "        [-5.52382863e-02,  2.84635559e-01,  2.41986506e-01,\n",
       "         -9.25944848e-01],\n",
       "        ...,\n",
       "        [-5.56097005e-01,  6.28598919e-01,  1.90144532e-02,\n",
       "         -5.43376453e-01],\n",
       "        [ 5.92708568e-01, -4.52630308e-01, -2.49051328e-01,\n",
       "          6.17896264e-01],\n",
       "        [ 7.18191787e-01, -2.99811471e-01, -3.42229338e-01,\n",
       "          5.26490949e-01]],\n",
       "\n",
       "       [[ 0.00000000e+00,  0.00000000e+00,  0.00000000e+00,\n",
       "          1.00000000e+00],\n",
       "        [-4.58792050e-02,  9.92318226e-02,  1.69123300e-01,\n",
       "         -9.79512865e-01],\n",
       "        [-5.24289598e-02,  9.60328537e-02,  2.32803861e-01,\n",
       "         -9.66349449e-01],\n",
       "        ...,\n",
       "        [-6.19950821e-01,  4.17944678e-01,  1.10760086e-02,\n",
       "         -6.63973303e-01],\n",
       "        [-5.84972327e-01,  3.70673416e-01,  8.65644829e-02,\n",
       "         -7.16180973e-01],\n",
       "        [ 6.68457485e-01, -3.31034757e-01, -1.00989311e-01,\n",
       "          6.58317355e-01]]])"
      ]
     },
     "execution_count": 28,
     "metadata": {},
     "output_type": "execute_result"
    }
   ],
   "source": [
    "quats_oi"
   ]
  },
  {
   "cell_type": "code",
   "execution_count": 23,
   "metadata": {},
   "outputs": [
    {
     "data": {
      "text/plain": [
       "(20, 16, 4)"
      ]
     },
     "execution_count": 23,
     "metadata": {},
     "output_type": "execute_result"
    }
   ],
   "source": [
    "get_quats(Y).shape"
   ]
  },
  {
   "cell_type": "code",
   "execution_count": 24,
   "metadata": {},
   "outputs": [
    {
     "data": {
      "text/plain": [
       "(20, 32)"
      ]
     },
     "execution_count": 24,
     "metadata": {},
     "output_type": "execute_result"
    }
   ],
   "source": [
    "train_dataset[0][1].shape"
   ]
  },
  {
   "cell_type": "code",
   "execution_count": null,
   "metadata": {},
   "outputs": [],
   "source": [
    "get_quats"
   ]
  },
  {
   "cell_type": "code",
   "execution_count": 25,
   "metadata": {},
   "outputs": [
    {
     "data": {
      "text/plain": [
       "(20, 320)"
      ]
     },
     "execution_count": 25,
     "metadata": {},
     "output_type": "execute_result"
    }
   ],
   "source": [
    "Y.shape"
   ]
  },
  {
   "cell_type": "code",
   "execution_count": null,
   "metadata": {},
   "outputs": [],
   "source": []
  }
 ],
 "metadata": {
  "kernelspec": {
   "display_name": "AiTLS",
   "language": "python",
   "name": "aitls"
  },
  "language_info": {
   "codemirror_mode": {
    "name": "ipython",
    "version": 3
   },
   "file_extension": ".py",
   "mimetype": "text/x-python",
   "name": "python",
   "nbconvert_exporter": "python",
   "pygments_lexer": "ipython3",
   "version": "3.10.14"
  }
 },
 "nbformat": 4,
 "nbformat_minor": 4
}
